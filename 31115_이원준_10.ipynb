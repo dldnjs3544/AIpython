{
  "nbformat": 4,
  "nbformat_minor": 0,
  "metadata": {
    "colab": {
      "name": "31115 이원준_10",
      "provenance": [],
      "authorship_tag": "ABX9TyONnztjxaXWZXsB2R37tiHk",
      "include_colab_link": true
    },
    "kernelspec": {
      "name": "python3",
      "display_name": "Python 3"
    }
  },
  "cells": [
    {
      "cell_type": "markdown",
      "metadata": {
        "id": "view-in-github",
        "colab_type": "text"
      },
      "source": [
        "<a href=\"https://colab.research.google.com/github/dldnjs3544/AIpython/blob/master/31115_%EC%9D%B4%EC%9B%90%EC%A4%80_10.ipynb\" target=\"_parent\"><img src=\"https://colab.research.google.com/assets/colab-badge.svg\" alt=\"Open In Colab\"/></a>"
      ]
    },
    {
      "cell_type": "markdown",
      "metadata": {
        "id": "90mAJMeD94Sl",
        "colab_type": "text"
      },
      "source": [
        "#Keras AI"
      ]
    },
    {
      "cell_type": "code",
      "metadata": {
        "id": "sZpos7Az90S6",
        "colab_type": "code",
        "colab": {
          "base_uri": "https://localhost:8080/",
          "height": 34
        },
        "outputId": "bb61d716-6048-4e93-9c99-911f65796302"
      },
      "source": [
        "print(\"Hello Github\")"
      ],
      "execution_count": 1,
      "outputs": [
        {
          "output_type": "stream",
          "text": [
            "Hello Github\n"
          ],
          "name": "stdout"
        }
      ]
    }
  ]
}